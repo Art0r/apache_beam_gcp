{
 "cells": [
  {
   "cell_type": "code",
   "execution_count": 19,
   "metadata": {},
   "outputs": [
    {
     "data": {
      "text/plain": [
       "<apache_beam.runners.portability.fn_api_runner.fn_runner.RunnerResult at 0x19851e58380>"
      ]
     },
     "execution_count": 19,
     "metadata": {},
     "output_type": "execute_result"
    }
   ],
   "source": [
    "import apache_beam as beam\n",
    "import os\n",
    "\n",
    "if os.path.isfile('voos_text.txt-00000-of-00001'):\n",
    "    os.remove('voos_text.txt-00000-of-00001')\n",
    "\n",
    "p = beam.Pipeline()\n",
    "\n",
    "\"\"\"\n",
    "beam.Map retorna apenas 1 elemento por iteração \n",
    "\"\"\"\n",
    "p_collection = (\n",
    "    p\n",
    "    | \"Importar Dados\" >> beam.io.ReadFromText(\"voos_sample.csv\", skip_header_lines=1)\n",
    "    | \"Separar por Virgulas\" >> beam.Map(lambda record: record.split(','))\n",
    "    #| \"Mostrar Resultados\" >> beam.Map(print)\n",
    "    | \"Escrever Resultados\" >> beam.io.WriteToText(\"voos_text.txt\")\n",
    ")\n",
    "\n",
    "p.run()"
   ]
  },
  {
   "cell_type": "code",
   "execution_count": 5,
   "metadata": {},
   "outputs": [
    {
     "name": "stdout",
     "output_type": "stream",
     "text": [
      "[1, 2, 3]\n",
      "[3, 4, 6]\n"
     ]
    },
    {
     "data": {
      "text/plain": [
       "<apache_beam.runners.portability.fn_api_runner.fn_runner.RunnerResult at 0x1984fc68aa0>"
      ]
     },
     "execution_count": 5,
     "metadata": {},
     "output_type": "execute_result"
    }
   ],
   "source": [
    "import apache_beam as beam\n",
    "\n",
    "p | \"Lista\" >> beam.Create( [ [1, 2, 3], [3, 4, 6] ]) | \"Print Lista\" >> beam.Map(print)\n",
    "\n",
    "p.run()"
   ]
  },
  {
   "cell_type": "code",
   "execution_count": null,
   "metadata": {},
   "outputs": [
    {
     "data": {
      "text/plain": [
       "<apache_beam.runners.portability.fn_api_runner.fn_runner.RunnerResult at 0x19851e590d0>"
      ]
     },
     "execution_count": 21,
     "metadata": {},
     "output_type": "execute_result"
    }
   ],
   "source": [
    "import apache_beam as beam\n",
    "import os\n",
    "\n",
    "if os.path.isfile('resultado_poema.txt-00000-of-00001'):\n",
    "    os.remove('resultado_poema.txt-00000-of-00001')\n",
    "\n",
    "p = beam.Pipeline()\n",
    "\n",
    "\"\"\"\n",
    "beam.FlatMap retorna multiplos elementos por iteração\n",
    "\"\"\"\n",
    "p_collection = (\n",
    "    p\n",
    "    | beam.io.ReadFromText(\"poema.txt\")\n",
    "    | beam.FlatMap(lambda record: record.split(' '))\n",
    "    | beam.io.WriteToText(\"resultado_poema.txt\")\n",
    ")\n",
    "\n",
    "p.run()"
   ]
  },
  {
   "cell_type": "code",
   "execution_count": 22,
   "metadata": {},
   "outputs": [
    {
     "name": "stdout",
     "output_type": "stream",
     "text": [
      "quatro\n",
      "quatro\n",
      "um\n",
      "quatro\n",
      "quatro\n",
      "um\n"
     ]
    },
    {
     "data": {
      "text/plain": [
       "<apache_beam.runners.portability.fn_api_runner.fn_runner.RunnerResult at 0x19851e596a0>"
      ]
     },
     "execution_count": 22,
     "metadata": {},
     "output_type": "execute_result"
    }
   ],
   "source": [
    "import apache_beam as beam\n",
    "import os\n",
    "\n",
    "p = beam.Pipeline()\n",
    "\n",
    "p_collection = (\n",
    "    p\n",
    "    | beam.io.ReadFromText(\"poema.txt\")\n",
    "    | beam.FlatMap(lambda record: record.split(' '))\n",
    "    | beam.Filter(lambda value: value in ['quatro', 'um'])\n",
    "    | beam.Map(print)\n",
    ")\n",
    "\n",
    "p.run()"
   ]
  },
  {
   "cell_type": "code",
   "execution_count": 41,
   "metadata": {},
   "outputs": [
    {
     "name": "stdout",
     "output_type": "stream",
     "text": [
      "('LAX', {'contagem_atrasos': [4], 'soma_atrasos': [92]})\n",
      "('HNL', {'contagem_atrasos': [1], 'soma_atrasos': [15]})\n",
      "('DFW', {'contagem_atrasos': [1], 'soma_atrasos': [95]})\n",
      "('OGG', {'contagem_atrasos': [1], 'soma_atrasos': [138]})\n",
      "('JFK', {'contagem_atrasos': [4], 'soma_atrasos': [220]})\n"
     ]
    },
    {
     "data": {
      "text/plain": [
       "<apache_beam.runners.portability.fn_api_runner.fn_runner.RunnerResult at 0x19852a07620>"
      ]
     },
     "execution_count": 41,
     "metadata": {},
     "output_type": "execute_result"
    }
   ],
   "source": [
    "import apache_beam as beam\n",
    "import os\n",
    "\n",
    "p = beam.Pipeline()\n",
    "\n",
    "\n",
    "class FilterWithoutDelays(beam.DoFn):\n",
    "    def process(self, element, *args, **kwargs):\n",
    "        if int(element[8]) > 0:\n",
    "            return [element] \n",
    "\n",
    "def process_data(pipeline: beam.Pipeline, type_of_pipeline: str):\n",
    "    return (\n",
    "        pipeline\n",
    "        | f\"Importar Dados ({type_of_pipeline})\" >> beam.io.ReadFromText(\"voos_sample.csv\", skip_header_lines=1)\n",
    "        | f\"Separar por Virgulas ({type_of_pipeline})\" >> beam.Map(lambda record: record.split(','))\n",
    "        | f\"Voos sem atraso ({type_of_pipeline})\" >> beam.ParDo(FilterWithoutDelays())\n",
    "        | f\"Criar par ({type_of_pipeline})\" >> beam.Map(lambda record: ( record[4], int(record[8]) ) )\n",
    "    )\n",
    "\n",
    "# GROUP BY + SUM\n",
    "soma_atrasos = (\n",
    "    process_data(p, \"Soma Atrasos\")\n",
    "    | \"Somar por key\" >> beam.CombinePerKey(sum)\n",
    ")\n",
    "\n",
    "# GROUP BY + COUNT \n",
    "contagem_atrasos = (\n",
    "    process_data(p, \"Contagem Atrasos\")\n",
    "    | \"Contar por key\" >> beam.combiners.Count.PerKey()\n",
    ")\n",
    "\n",
    "\n",
    "tabela_atrasos = (\n",
    "    { 'contagem_atrasos': contagem_atrasos, 'soma_atrasos': soma_atrasos }\n",
    "    | 'Group By' >> beam.CoGroupByKey()\n",
    "    | beam.Map(print)\n",
    ")\n",
    "\n",
    "p.run()"
   ]
  }
 ],
 "metadata": {
  "kernelspec": {
   "display_name": ".venv",
   "language": "python",
   "name": "python3"
  },
  "language_info": {
   "codemirror_mode": {
    "name": "ipython",
    "version": 3
   },
   "file_extension": ".py",
   "mimetype": "text/x-python",
   "name": "python",
   "nbconvert_exporter": "python",
   "pygments_lexer": "ipython3",
   "version": "3.12.6"
  }
 },
 "nbformat": 4,
 "nbformat_minor": 2
}
